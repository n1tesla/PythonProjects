{
 "cells": [
  {
   "cell_type": "markdown",
   "source": [
    "The classmethod() method returns a class method for the given function."
   ],
   "metadata": {
    "collapsed": false
   }
  },
  {
   "cell_type": "code",
   "execution_count": 1,
   "outputs": [
    {
     "name": "stdout",
     "output_type": "stream",
     "text": [
      "Obtained Marks: 88\n"
     ]
    }
   ],
   "source": [
    "class Student:\n",
    "  marks = 0\n",
    "\n",
    "  def compute_marks(self, obtained_marks):\n",
    "    marks = obtained_marks\n",
    "    print('Obtained Marks:', marks)\n",
    "\n",
    "# convert compute_marks() to class method\n",
    "Student.print_marks = classmethod(Student.compute_marks)\n",
    "Student.print_marks(88)\n",
    "\n",
    "# Output: Obtained Marks: 88"
   ],
   "metadata": {
    "collapsed": false
   }
  },
  {
   "cell_type": "markdown",
   "source": [
    "classmethod() is considered un-Pythonic so in newer Python versions, you can use the @classmethod decorator for classmethod definition."
   ],
   "metadata": {
    "collapsed": false
   }
  },
  {
   "cell_type": "markdown",
   "source": [
    "What is a class method?\n",
    "A class method is a method that is bound to a class rather than its object. It doesn't require creation of a class instance, much like staticmethod.\n",
    "\n",
    "The difference between a static method and a class method is:\n",
    "\n",
    "Static method knows nothing about the class and just deals with the parameters\n",
    "Class method works with the class since its parameter is always the class itself.\n",
    "The class method can be called both by the class and its object."
   ],
   "metadata": {
    "collapsed": false
   }
  },
  {
   "cell_type": "markdown",
   "source": [
    "Example 1: Create class method using classmethod()"
   ],
   "metadata": {
    "collapsed": false
   }
  },
  {
   "cell_type": "code",
   "execution_count": 2,
   "outputs": [
    {
     "name": "stdout",
     "output_type": "stream",
     "text": [
      "The age is: 25\n"
     ]
    }
   ],
   "source": [
    "class Person:\n",
    "    age = 25\n",
    "\n",
    "    def printAge(cls):\n",
    "        print('The age is:', cls.age)\n",
    "\n",
    "# create printAge class method\n",
    "Person.printAge = classmethod(Person.printAge)\n",
    "\n",
    "Person.printAge()"
   ],
   "metadata": {
    "collapsed": false
   }
  },
  {
   "cell_type": "markdown",
   "source": [
    "We also have a function printAge that takes a single parameter cls and not self we usually take.\n",
    "\n",
    "cls accepts the class Person as a parameter rather than Person's object/instance.\n",
    "\n",
    "Now, we pass the method Person.printAge as an argument to the function classmethod. This converts the method to a class method so that it accepts the first parameter as a class (i.e. Person)."
   ],
   "metadata": {
    "collapsed": false
   }
  },
  {
   "cell_type": "markdown",
   "source": [
    "When do you use the class method?"
   ],
   "metadata": {
    "collapsed": false
   }
  },
  {
   "cell_type": "markdown",
   "source": [
    "1 Factory methods\n",
    "Factory methods are those methods that return a class object (like constructor) for different use cases.\n",
    "\n",
    "It is similar to function overloading in C++. Since, Python doesn't have anything as such, class methods and static methods are used.\n",
    "Example 2: Create factory method using class method"
   ],
   "metadata": {
    "collapsed": false
   }
  },
  {
   "cell_type": "code",
   "execution_count": 3,
   "outputs": [
    {
     "name": "stdout",
     "output_type": "stream",
     "text": [
      "Adam's age is: 19\n",
      "John's age is: 38\n"
     ]
    }
   ],
   "source": [
    "from datetime import date\n",
    "\n",
    "# random Person\n",
    "class Person:\n",
    "    def __init__(self, name, age):\n",
    "        self.name = name\n",
    "        self.age = age\n",
    "\n",
    "    @classmethod\n",
    "    def fromBirthYear(cls, name, birthYear):\n",
    "        return cls(name, date.today().year - birthYear)\n",
    "\n",
    "    def display(self):\n",
    "        print(self.name + \"'s age is: \" + str(self.age))\n",
    "\n",
    "person = Person('Adam', 19)\n",
    "person.display()\n",
    "\n",
    "person1 = Person.fromBirthYear('John',  1985)\n",
    "person1.display()"
   ],
   "metadata": {
    "collapsed": false
   }
  },
  {
   "cell_type": "markdown",
   "source": [
    "Here, we have two class instance creator, a constructor and a fromBirthYear method.\n",
    "\n",
    "The constructor takes normal parameters name and age. While, fromBirthYear takes class, name and birthYear, calculates the current age by subtracting it with the current year and returns the class instance.\n",
    "\n",
    "The fromBirthYear method takes Person class (not Person object) as the first parameter cls and returns the constructor by calling cls(name, date.today().year - birthYear), which is equivalent to Person(name, date.today().year - birthYear)\n",
    "\n",
    "Before the method, we see @classmethod. This is called a decorator for converting fromBirthYear to a class method as classmethod()."
   ],
   "metadata": {
    "collapsed": false
   }
  },
  {
   "cell_type": "markdown",
   "source": [
    "2 Correct instance creation in inheritance\n",
    "Whenever you derive a class from implementing a factory method as a class method, it ensures correct instance creation of the derived class.\n",
    "\n",
    "You can create a static method for the above example but the object it creates, will always be hard coded as Base class.\n",
    "\n",
    "But, when you use a class method, it creates the correct instance of the derived class.\n",
    "Example 3: How the class method works for the inheritance?\n"
   ],
   "metadata": {
    "collapsed": false
   }
  },
  {
   "cell_type": "code",
   "execution_count": 4,
   "outputs": [
    {
     "name": "stdout",
     "output_type": "stream",
     "text": [
      "True\n",
      "False\n"
     ]
    }
   ],
   "source": [
    "from datetime import date\n",
    "\n",
    "# random Person\n",
    "class Person:\n",
    "    def __init__(self, name, age):\n",
    "        self.name = name\n",
    "        self.age = age\n",
    "\n",
    "    @staticmethod\n",
    "    def fromFathersAge(name, fatherAge, fatherPersonAgeDiff):\n",
    "        return Person(name, date.today().year - fatherAge + fatherPersonAgeDiff)\n",
    "\n",
    "    @classmethod\n",
    "    def fromBirthYear(cls, name, birthYear):\n",
    "        return cls(name, date.today().year - birthYear)\n",
    "\n",
    "    def display(self):\n",
    "        print(self.name + \"'s age is: \" + str(self.age))\n",
    "\n",
    "class Man(Person):\n",
    "    sex = 'Male'\n",
    "\n",
    "man = Man.fromBirthYear('John', 1985)\n",
    "print(isinstance(man, Man))\n",
    "\n",
    "man1 = Man.fromFathersAge('John', 1965, 20)\n",
    "print(isinstance(man1, Man))"
   ],
   "metadata": {
    "collapsed": false
   }
  },
  {
   "cell_type": "markdown",
   "source": [
    "Here, using a static method to create a class instance wants us to hardcode the instance type during creation.\n",
    "\n",
    "This clearly causes a problem when inheriting Person to Man.\n",
    "\n",
    "fromFathersAge method doesn't return a Man object but its base class Person's object.\n",
    "\n",
    "This violates the OOP paradigm. Using a class method as fromBirthYear can ensure the OOP-ness of the code since it takes the first parameter as the class itself and calls its factory method."
   ],
   "metadata": {
    "collapsed": false
   }
  },
  {
   "cell_type": "code",
   "execution_count": null,
   "outputs": [],
   "source": [],
   "metadata": {
    "collapsed": false
   }
  }
 ],
 "metadata": {
  "kernelspec": {
   "display_name": "Python 3",
   "language": "python",
   "name": "python3"
  },
  "language_info": {
   "codemirror_mode": {
    "name": "ipython",
    "version": 2
   },
   "file_extension": ".py",
   "mimetype": "text/x-python",
   "name": "python",
   "nbconvert_exporter": "python",
   "pygments_lexer": "ipython2",
   "version": "2.7.6"
  }
 },
 "nbformat": 4,
 "nbformat_minor": 0
}
