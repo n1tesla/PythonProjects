{
 "cells": [
  {
   "cell_type": "code",
   "execution_count": null,
   "metadata": {
    "collapsed": true
   },
   "outputs": [],
   "source": [
    "from abc import ABC, abstractmethod\n",
    "\n",
    "class AbstractClass(ABC):\n",
    "    @abstractmethod\n",
    "    def func():\n",
    "        pass\n"
   ]
  },
  {
   "cell_type": "code",
   "execution_count": 1,
   "outputs": [
    {
     "name": "stdout",
     "output_type": "stream",
     "text": [
      "This is an output\n"
     ]
    }
   ],
   "source": [
    "from abc import ABC, abstractmethod\n",
    "\n",
    "class AbstractClass(ABC):\n",
    "    @abstractmethod\n",
    "    def func(self):\n",
    "        pass\n",
    "\n",
    "class ChildClass(AbstractClass):\n",
    "    def func(self):\n",
    "        out = \"This is an output\"\n",
    "        return out\n",
    "\n",
    "obj = ChildClass()\n",
    "print(obj.func())\n"
   ],
   "metadata": {
    "collapsed": false
   }
  },
  {
   "cell_type": "code",
   "execution_count": 2,
   "outputs": [],
   "source": [
    "from abc import ABC, abstractmethod\n",
    "\n",
    "class Browser(ABC):\n",
    "    \"\"\"\n",
    "    Creates \"Abstract Product A\"\n",
    "    \"\"\"\n",
    "\n",
    "    # Interface - Create Search Toolbar\n",
    "    @abstractmethod\n",
    "    def create_search_toolbar(self):\n",
    "        pass\n",
    "\n",
    "    # Interface - Create Browser Window\n",
    "    @abstractmethod\n",
    "    def create_browser_window(self):\n",
    "        pass\n",
    "\n",
    "class Messenger(ABC):\n",
    "    \"\"\"\n",
    "    Creates \"Abstract Product B\"\n",
    "    \"\"\"\n",
    "\n",
    "    @abstractmethod\n",
    "    # Interface - Create Messenger Window\n",
    "    def create_messenger_window(self):\n",
    "        pass"
   ],
   "metadata": {
    "collapsed": false
   }
  },
  {
   "cell_type": "code",
   "execution_count": 3,
   "outputs": [],
   "source": [
    "class VanillaBrowser(Browser):\n",
    "    \"\"\"\n",
    "    Type: Concrete Product\n",
    "    Abstract methods of the Browser base class are implemented.\n",
    "    \"\"\"\n",
    "\n",
    "    # Interface - Create Search Toolbar\n",
    "    def create_search_toolbar(self):\n",
    "        print(\"Search Toolbar Created\")\n",
    "\n",
    "    # Interface - Create Browser Window]\n",
    "    def create_browser_window(self):\n",
    "        print(\"Browser Window Created\")\n",
    "\n",
    "\n",
    "class VanillaMessenger(Messenger):\n",
    "    \"\"\"\n",
    "    Type: Concrete Product\n",
    "    Abstract methods of the Messenger base class are implemented.\n",
    "    \"\"\"\n",
    "\n",
    "    # Interface - Create Messenger Window\n",
    "    def create_messenger_window(self):\n",
    "        print(\"Messenger Window Created\")\n",
    "\n",
    "class SecureBrowser(Browser):\n",
    "    \"\"\"\n",
    "    Type: Concrete Product\n",
    "    Abstract methods of the Browser base class are implemented.\n",
    "    \"\"\"\n",
    "\n",
    "    # Abstract Method of the Browser base class\n",
    "    def create_search_toolbar(self):\n",
    "        print(\"Secure Browser - Search Toolbar Created\")\n",
    "\n",
    "    # Abstract Method of the Browser base class\n",
    "    def create_browser_window(self):\n",
    "        print(\"Secure Browser - Browser Window Created\")\n",
    "\n",
    "    def create_incognito_mode(self):\n",
    "        print(\"Secure Browser - Incognito Mode Created\")\n",
    "\n",
    "\n",
    "class SecureMessenger(Messenger):\n",
    "    \"\"\"\n",
    "    Type: Concrete Product\n",
    "    Abstract methods of the Messenger base class are implemented.\n",
    "    \"\"\"\n",
    "\n",
    "    # Abstract Method of the Messenger base class\n",
    "    def create_messenger_window(self):\n",
    "        print(\"Secure Messenger - Messenger Window Created\")\n",
    "\n",
    "    def create_privacy_filter(self):\n",
    "        print(\"Secure Messenger - Privacy Filter Created\")\n",
    "\n",
    "    def disappearing_messages(self):\n",
    "        print(\"Secure Messenger - Disappearing Messages Feature Enabled\")"
   ],
   "metadata": {
    "collapsed": false
   }
  },
  {
   "cell_type": "code",
   "execution_count": 4,
   "outputs": [],
   "source": [
    "class AbstractFactory(ABC):\n",
    "    \"\"\"\n",
    "    The Abstract Factory\n",
    "    \"\"\"\n",
    "\n",
    "    @abstractmethod\n",
    "    def create_browser(self):\n",
    "        pass\n",
    "\n",
    "    @abstractmethod\n",
    "    def create_messenger(self):\n",
    "        pass\n",
    "\n",
    "class VanillaProductsFactory(AbstractFactory):\n",
    "    \"\"\"\n",
    "    Type: Concrete Factory\n",
    "    Implement the operations to create concrete product objects.\n",
    "    \"\"\"\n",
    "\n",
    "    def create_browser(self):\n",
    "        return VanillaBrowser()\n",
    "\n",
    "    def create_messenger(self):\n",
    "        return VanillaMessenger()\n",
    "\n",
    "class SecureProductsFactory(AbstractFactory):\n",
    "    \"\"\"\n",
    "    Type: Concrete Factory\n",
    "    Implement the operations to create concrete product objects.\n",
    "    \"\"\"\n",
    "\n",
    "    def create_browser(self):\n",
    "        return SecureBrowser()\n",
    "\n",
    "    def create_messenger(self):\n",
    "        return SecureMessenger()"
   ],
   "metadata": {
    "collapsed": false
   }
  },
  {
   "cell_type": "code",
   "execution_count": 5,
   "outputs": [
    {
     "name": "stdout",
     "output_type": "stream",
     "text": [
      "Browser Window Created\n",
      "Search Toolbar Created\n",
      "Messenger Window Created\n",
      "Secure Browser - Browser Window Created\n",
      "Secure Browser - Search Toolbar Created\n",
      "Secure Messenger - Messenger Window Created\n"
     ]
    }
   ],
   "source": [
    "def main():\n",
    "    for factory in (VanillaProductsFactory(), SecureProductsFactory()):\n",
    "        product_a = factory.create_browser()\n",
    "        product_b = factory.create_messenger()\n",
    "        product_a.create_browser_window()\n",
    "        product_a.create_search_toolbar()\n",
    "        product_b.create_messenger_window()\n",
    "\n",
    "if __name__ == \"__main__\":\n",
    "    main()"
   ],
   "metadata": {
    "collapsed": false
   }
  },
  {
   "cell_type": "code",
   "execution_count": null,
   "outputs": [],
   "source": [],
   "metadata": {
    "collapsed": false
   }
  }
 ],
 "metadata": {
  "kernelspec": {
   "display_name": "Python 3",
   "language": "python",
   "name": "python3"
  },
  "language_info": {
   "codemirror_mode": {
    "name": "ipython",
    "version": 2
   },
   "file_extension": ".py",
   "mimetype": "text/x-python",
   "name": "python",
   "nbconvert_exporter": "python",
   "pygments_lexer": "ipython2",
   "version": "2.7.6"
  }
 },
 "nbformat": 4,
 "nbformat_minor": 0
}
