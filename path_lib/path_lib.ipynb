{
 "cells": [
  {
   "cell_type": "code",
   "execution_count": 1,
   "metadata": {
    "collapsed": true
   },
   "outputs": [],
   "source": [
    "from pathlib import Path\n",
    "import os"
   ]
  },
  {
   "cell_type": "code",
   "execution_count": 6,
   "outputs": [],
   "source": [
    "# Make a path instance for the directory to make\n",
    "directory_path=Path(\"C:/Users/takyol/Desktop/projects/PythonProjects/path_lib/trial_path\")"
   ],
   "metadata": {
    "collapsed": false
   }
  },
  {
   "cell_type": "code",
   "execution_count": 7,
   "outputs": [],
   "source": [
    "directory_path.mkdir()"
   ],
   "metadata": {
    "collapsed": false
   }
  },
  {
   "cell_type": "code",
   "execution_count": 13,
   "outputs": [
    {
     "name": "stdout",
     "output_type": "stream",
     "text": [
      "C:\\Users\\takyol\\Desktop\\projects\\PythonProjects\\path_lib\\documents\n"
     ]
    }
   ],
   "source": [
    "#construct the path to the directory to make\n",
    "dir_path=Path.cwd() / \"documents\"\n",
    "print(dir_path)"
   ],
   "metadata": {
    "collapsed": false
   }
  },
  {
   "cell_type": "code",
   "execution_count": 15,
   "outputs": [
    {
     "ename": "FileExistsError",
     "evalue": "[WinError 183] Halen varolan bir dosya oluşturulamaz: 'C:\\\\Users\\\\takyol\\\\Desktop\\\\projects\\\\PythonProjects\\\\path_lib\\\\documents'",
     "output_type": "error",
     "traceback": [
      "\u001B[1;31m---------------------------------------------------------------------------\u001B[0m",
      "\u001B[1;31mFileExistsError\u001B[0m                           Traceback (most recent call last)",
      "Cell \u001B[1;32mIn[15], line 1\u001B[0m\n\u001B[1;32m----> 1\u001B[0m \u001B[43mdir_path\u001B[49m\u001B[38;5;241;43m.\u001B[39;49m\u001B[43mmkdir\u001B[49m\u001B[43m(\u001B[49m\u001B[43m)\u001B[49m\n",
      "File \u001B[1;32m~\\AppData\\Local\\Programs\\Python\\Python311\\Lib\\pathlib.py:1116\u001B[0m, in \u001B[0;36mPath.mkdir\u001B[1;34m(self, mode, parents, exist_ok)\u001B[0m\n\u001B[0;32m   1112\u001B[0m \u001B[38;5;250m\u001B[39m\u001B[38;5;124;03m\"\"\"\u001B[39;00m\n\u001B[0;32m   1113\u001B[0m \u001B[38;5;124;03mCreate a new directory at this given path.\u001B[39;00m\n\u001B[0;32m   1114\u001B[0m \u001B[38;5;124;03m\"\"\"\u001B[39;00m\n\u001B[0;32m   1115\u001B[0m \u001B[38;5;28;01mtry\u001B[39;00m:\n\u001B[1;32m-> 1116\u001B[0m     \u001B[43mos\u001B[49m\u001B[38;5;241;43m.\u001B[39;49m\u001B[43mmkdir\u001B[49m\u001B[43m(\u001B[49m\u001B[38;5;28;43mself\u001B[39;49m\u001B[43m,\u001B[49m\u001B[43m \u001B[49m\u001B[43mmode\u001B[49m\u001B[43m)\u001B[49m\n\u001B[0;32m   1117\u001B[0m \u001B[38;5;28;01mexcept\u001B[39;00m \u001B[38;5;167;01mFileNotFoundError\u001B[39;00m:\n\u001B[0;32m   1118\u001B[0m     \u001B[38;5;28;01mif\u001B[39;00m \u001B[38;5;129;01mnot\u001B[39;00m parents \u001B[38;5;129;01mor\u001B[39;00m \u001B[38;5;28mself\u001B[39m\u001B[38;5;241m.\u001B[39mparent \u001B[38;5;241m==\u001B[39m \u001B[38;5;28mself\u001B[39m:\n",
      "\u001B[1;31mFileExistsError\u001B[0m: [WinError 183] Halen varolan bir dosya oluşturulamaz: 'C:\\\\Users\\\\takyol\\\\Desktop\\\\projects\\\\PythonProjects\\\\path_lib\\\\documents'"
     ]
    }
   ],
   "source": [
    "dir_path.mkdir()"
   ],
   "metadata": {
    "collapsed": false
   }
  },
  {
   "cell_type": "code",
   "execution_count": 17,
   "outputs": [
    {
     "name": "stdout",
     "output_type": "stream",
     "text": [
      "Successfully made the 'C:\\Users\\takyol\\Desktop\\projects\\PythonProjects\\path_lib\\documents' directory.\n"
     ]
    }
   ],
   "source": [
    "print(f\"Successfully made the '{dir_path}' directory.\")"
   ],
   "metadata": {
    "collapsed": false
   }
  },
  {
   "cell_type": "markdown",
   "source": [
    "Attempt to make existing directory"
   ],
   "metadata": {
    "collapsed": false
   }
  },
  {
   "cell_type": "code",
   "execution_count": 21,
   "outputs": [
    {
     "name": "stdout",
     "output_type": "stream",
     "text": [
      "The 'C:\\Users\\takyol\\Desktop\\projects\\PythonProjects\\path_lib\\animal' directory now exists!\n"
     ]
    }
   ],
   "source": [
    "from pathlib import Path\n",
    "\n",
    "# Make a path object with the directory path to make\n",
    "directory_path = Path(\"C:/Users/takyol/Desktop/projects/PythonProjects/path_lib/animal\")\n",
    "\n",
    "# Attempt to make the new directory\n",
    "directory_path.mkdir()\n",
    "\n",
    "# Output the location of the newly made folder\n",
    "print(f\"The '{directory_path}' directory now exists!\")"
   ],
   "metadata": {
    "collapsed": false
   }
  },
  {
   "cell_type": "markdown",
   "source": [
    "To prevent this FileExistsError, set the exist_ok argument of Path.mkdir() to True. That tells the method it’s okay if the directory already exists, and not generate an error in that situation."
   ],
   "metadata": {
    "collapsed": false
   }
  },
  {
   "cell_type": "code",
   "execution_count": 22,
   "outputs": [],
   "source": [
    "# Attempt to make the new directory\n",
    "directory_path.mkdir(exist_ok=True)"
   ],
   "metadata": {
    "collapsed": false
   }
  },
  {
   "cell_type": "markdown",
   "source": [
    "Make directory and handle exceptions"
   ],
   "metadata": {
    "collapsed": false
   }
  },
  {
   "cell_type": "code",
   "execution_count": 23,
   "outputs": [
    {
     "name": "stdout",
     "output_type": "stream",
     "text": [
      "Successfully made the 'C:\\Users\\takyol\\Desktop\\projects\\PythonProjects\\path_lib\\cities' directory.\n"
     ]
    }
   ],
   "source": [
    "from pathlib import Path\n",
    "\n",
    "# Make a path instance for the directory to create\n",
    "directory_path = Path(r\"C:/Users/takyol/Desktop/projects/PythonProjects/path_lib/cities\")\n",
    "\n",
    "# Attempt to make the new directory. Catch any error that can happen. Report\n",
    "# the folder location when successful.\n",
    "try:\n",
    "    directory_path.mkdir()\n",
    "except FileExistsError:\n",
    "    print(f\"Error: the '{directory_path}' path already exists.\")\n",
    "except FileNotFoundError:\n",
    "    print(f\"Error: '{directory_path}' misses required parent folder(s).\")\n",
    "except OSError:\n",
    "    print(f\"Error: path invalid or general system I/O error.\")\n",
    "else:\n",
    "    print(f\"Successfully made the '{directory_path}' directory.\")"
   ],
   "metadata": {
    "collapsed": false
   }
  },
  {
   "cell_type": "markdown",
   "source": [
    "Let’s see what output the program can generate. When Python succeeds in creating the folder, code prints:"
   ],
   "metadata": {
    "collapsed": false
   }
  },
  {
   "cell_type": "markdown",
   "source": [
    "When the path with the directory to make already exists, Python outputs:\n",
    "Error: the 'C:\\Wallpapers\\cities' path already exists."
   ],
   "metadata": {
    "collapsed": false
   }
  },
  {
   "cell_type": "markdown",
   "source": [
    "If one (or more) parent directories are missing, the program says:\n",
    "Error: 'C:\\Wallpapers\\mountains\\europe' misses required parent folder(s)."
   ],
   "metadata": {
    "collapsed": false
   }
  },
  {
   "cell_type": "markdown",
   "source": [
    "And with an invalid path (or other I/O error), we get:\n",
    "Error: path invalid or general system I/O error."
   ],
   "metadata": {
    "collapsed": false
   }
  },
  {
   "cell_type": "markdown",
   "source": [
    "Make directory and subdirectories"
   ],
   "metadata": {
    "collapsed": false
   }
  },
  {
   "cell_type": "raw",
   "source": [
    "By default, the Path.mkdir() method only makes a single directory – the path’s last directory. But the method can also make the parent directories of that folder. This requires we set its parent argument to True."
   ],
   "metadata": {
    "collapsed": false
   }
  },
  {
   "cell_type": "raw",
   "source": [
    "When we do, we also solve the FileNotFoundError exception. Because now the method makes the missing parent directory rather than generate that error. (Though the method can still generate its other exceptions.)"
   ],
   "metadata": {
    "collapsed": false
   }
  },
  {
   "cell_type": "code",
   "execution_count": 25,
   "outputs": [
    {
     "name": "stdout",
     "output_type": "stream",
     "text": [
      "Success! Created the 'C:\\Users\\takyol\\Desktop\\projects\\PythonProjects\\path_lib\\wallpapers\\nature' directory path.\n"
     ]
    }
   ],
   "source": [
    "from pathlib import Path\n",
    "\n",
    "# Define the directory tree to make with a path instance\n",
    "directory_path = Path(r\"C:\\Users\\takyol\\Desktop\\projects\\PythonProjects\\path_lib\\wallpapers\\nature\")\n",
    "\n",
    "# Try to make the directory path. Handle possible errors mkdir() can generate.\n",
    "# Display the created directory location when successful.\n",
    "try:\n",
    "    directory_path.mkdir(parents=True)\n",
    "except FileExistsError:\n",
    "    print(f\"Error: '{directory_path}' is an existing path.\")\n",
    "except OSError:c\n",
    "    print(\"Error: the path is invalid or there's an I/O system error.\")\n",
    "else:\n",
    "    print(f\"Success! Created the '{directory_path}' directory path.\")"
   ],
   "metadata": {
    "collapsed": false
   }
  },
  {
   "cell_type": "markdown",
   "source": [
    "Make folder list in directory"
   ],
   "metadata": {
    "collapsed": false
   }
  },
  {
   "cell_type": "raw",
   "source": [
    "Every time we call the Path.mkdir() method, it attempts to make a new directory or full directory path. To create several new directories, we call the method multiple times, each time on a different path. Let’s see that in action."
   ],
   "metadata": {
    "collapsed": false
   }
  },
  {
   "cell_type": "code",
   "execution_count": 27,
   "outputs": [
    {
     "name": "stdout",
     "output_type": "stream",
     "text": [
      "Making new directories in 'C:\\Users\\takyol\\Desktop\\projects\\PythonProjects\\path_lib\\nature':\n",
      "Created C:\\Users\\takyol\\Desktop\\projects\\PythonProjects\\path_lib\\nature\\desert\n",
      "Created C:\\Users\\takyol\\Desktop\\projects\\PythonProjects\\path_lib\\nature\\usa\\mountains\n",
      "Created C:\\Users\\takyol\\Desktop\\projects\\PythonProjects\\path_lib\\nature\\europe\\forest\\germany\n",
      "Created C:\\Users\\takyol\\Desktop\\projects\\PythonProjects\\path_lib\\nature\\sea\n"
     ]
    }
   ],
   "source": [
    "from pathlib import Path\n",
    "\n",
    "# Make a path instance that defines in what directory to make new folders\n",
    "directory_path = Path(r\"C:\\Users\\takyol\\Desktop\\projects\\PythonProjects\\path_lib\\nature\")\n",
    "\n",
    "# Specify a list of folders to make in that directory\n",
    "folder_names = [\n",
    "    \"desert\",\n",
    "    \"usa/mountains\",\n",
    "    \"europe/forest/germany\",\n",
    "    \"sea\",\n",
    "    \"rain-forest?\"\n",
    "]\n",
    "\n",
    "print(f\"Making new directories in '{directory_path}':\")\n",
    "\n",
    "# Go through the names of folders and attempt to make each. Ignore errors due\n",
    "# to existing directories or path problems. Show the path of each folder made.\n",
    "for folder_name in folder_names:\n",
    "    path = directory_path / folder_name\n",
    "\n",
    "    try:\n",
    "        path.mkdir(parents=True)\n",
    "    except OSError:\n",
    "        pass  # We ignore directory errors and go on with other folders\n",
    "    else:\n",
    "        print(f\"Created {path}\")"
   ],
   "metadata": {
    "collapsed": false
   }
  },
  {
   "cell_type": "code",
   "execution_count": null,
   "outputs": [],
   "source": [],
   "metadata": {
    "collapsed": false
   }
  }
 ],
 "metadata": {
  "kernelspec": {
   "display_name": "Python 3",
   "language": "python",
   "name": "python3"
  },
  "language_info": {
   "codemirror_mode": {
    "name": "ipython",
    "version": 2
   },
   "file_extension": ".py",
   "mimetype": "text/x-python",
   "name": "python",
   "nbconvert_exporter": "python",
   "pygments_lexer": "ipython2",
   "version": "2.7.6"
  }
 },
 "nbformat": 4,
 "nbformat_minor": 0
}
