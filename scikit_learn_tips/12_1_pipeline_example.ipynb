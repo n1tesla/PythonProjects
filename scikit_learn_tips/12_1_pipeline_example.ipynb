{
 "cells": [
  {
   "cell_type": "code",
   "execution_count": 1,
   "metadata": {
    "collapsed": true
   },
   "outputs": [],
   "source": [
    "from sklearn.datasets import load_wine\n",
    "\n",
    "data = load_wine(as_frame=True)\n",
    "wine_df = data.frame"
   ]
  },
  {
   "cell_type": "code",
   "execution_count": null,
   "outputs": [],
   "source": [
    "import numpy as np\n",
    "from sklearn.compose import ColumnTransformer\n",
    "from sklearn.pipeline import Pipeline\n",
    "from sklearn.preprocessing import StandardScaler, KBinsDiscretizer, FunctionTransformer, MinMaxScaler\n",
    "from sklearn.decomposition import PCA\n",
    "from sklearn.ensemble import RandomForestClassifier\n",
    "\n",
    "pipe_clf = Pipeline([\n",
    "  (\n",
    "    \"FeatureEngineering\",\n",
    "    ColumnTransformer(\n",
    "        [\n",
    "          (\"alcohol\", \"drop\", [\"alcohol\"]),\n",
    "          (\"malic_acid\", MinMaxScaler(), [\"malic_acid\"]),\n",
    "          (\"magnesium\",\n",
    "            Pipeline([\n",
    "                      (\"LogTransformation\", FunctionTransformer(lambda value: np.log1p(value)) ),\n",
    "                      (\"Kbins\", KBinsDiscretizer(n_bins=4) )\n",
    "            ]),\n",
    "            [\"magnesium\"]\n",
    "          ),\n",
    "          (\"nonflavanoid_phenols\", \"passthrough\", [\"nonflavanoid_phenols\"]),\n",
    "        ],\n",
    "      remainder=StandardScaler()\n",
    "    )\n",
    "  ),\n",
    "  (\n",
    "    \"PCA_red\",\n",
    "    PCA(n_components=10)\n",
    "  ),\n",
    "  (\n",
    "    \"RNDF_clf\",\n",
    "    RandomForestClassifier(n_estimators=250, max_depth=40, random_state=214)\n",
    "  )\n",
    "])"
   ],
   "metadata": {
    "collapsed": false
   }
  }
 ],
 "metadata": {
  "kernelspec": {
   "display_name": "Python 3",
   "language": "python",
   "name": "python3"
  },
  "language_info": {
   "codemirror_mode": {
    "name": "ipython",
    "version": 2
   },
   "file_extension": ".py",
   "mimetype": "text/x-python",
   "name": "python",
   "nbconvert_exporter": "python",
   "pygments_lexer": "ipython2",
   "version": "2.7.6"
  }
 },
 "nbformat": 4,
 "nbformat_minor": 0
}
