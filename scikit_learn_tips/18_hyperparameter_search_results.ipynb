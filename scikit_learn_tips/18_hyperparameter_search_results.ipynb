{
 "cells": [
  {
   "cell_type": "markdown",
   "source": [
    "Hyperparameter search results (from GridSearchCV or RandomizedSearchCV) can be converted into a pandas DataFrame.\n",
    "\n",
    "Makes it far easier to explore the results!"
   ],
   "metadata": {
    "collapsed": false
   }
  },
  {
   "cell_type": "code",
   "execution_count": 2,
   "outputs": [],
   "source": [
    "import pandas as pd\n",
    "\n",
    "df = pd.read_csv('train.csv')"
   ],
   "metadata": {
    "collapsed": false
   }
  },
  {
   "cell_type": "code",
   "execution_count": 3,
   "outputs": [],
   "source": [
    "X = df[['Pclass', 'Sex', 'Name']]\n",
    "y = df['Survived']"
   ],
   "metadata": {
    "collapsed": false
   }
  },
  {
   "cell_type": "code",
   "execution_count": 4,
   "outputs": [],
   "source": [
    "from sklearn.preprocessing import OneHotEncoder\n",
    "from sklearn.feature_extraction.text import CountVectorizer\n",
    "from sklearn.linear_model import LogisticRegression\n",
    "from sklearn.compose import make_column_transformer\n",
    "from sklearn.pipeline import Pipeline"
   ],
   "metadata": {
    "collapsed": false
   }
  },
  {
   "cell_type": "code",
   "execution_count": 5,
   "outputs": [],
   "source": [
    "ohe = OneHotEncoder()\n",
    "vect = CountVectorizer()\n",
    "clf = LogisticRegression(solver='liblinear', random_state=1)"
   ],
   "metadata": {
    "collapsed": false
   }
  },
  {
   "cell_type": "code",
   "execution_count": 6,
   "outputs": [],
   "source": [
    "ct = make_column_transformer((ohe, ['Sex']), (vect, 'Name'), remainder='passthrough')\n",
    "pipe = Pipeline([('preprocessor', ct), ('model', clf)])"
   ],
   "metadata": {
    "collapsed": false
   }
  },
  {
   "cell_type": "code",
   "execution_count": 7,
   "outputs": [],
   "source": [
    "# specify parameter values to search\n",
    "params = {}\n",
    "params['model__C'] = [0.1, 1, 10]\n",
    "params['model__penalty'] = ['l1', 'l2']"
   ],
   "metadata": {
    "collapsed": false
   }
  },
  {
   "cell_type": "code",
   "execution_count": 8,
   "outputs": [],
   "source": [
    "# try all possible combinations of those parameter values\n",
    "from sklearn.model_selection import GridSearchCV\n",
    "grid = GridSearchCV(pipe, params, cv=5, scoring='accuracy')\n",
    "grid.fit(X, y);"
   ],
   "metadata": {
    "collapsed": false
   }
  },
  {
   "cell_type": "code",
   "execution_count": 9,
   "outputs": [],
   "source": [
    "# convert results into a DataFrame\n",
    "results = pd.DataFrame(grid.cv_results_)[['params', 'mean_test_score', 'rank_test_score']]"
   ],
   "metadata": {
    "collapsed": false
   }
  },
  {
   "cell_type": "code",
   "execution_count": 10,
   "outputs": [
    {
     "data": {
      "text/plain": "                                      params  mean_test_score  rank_test_score\n4   {'model__C': 10, 'model__penalty': 'l1'}         0.821537                1\n2    {'model__C': 1, 'model__penalty': 'l1'}         0.820394                2\n5   {'model__C': 10, 'model__penalty': 'l2'}         0.817055                3\n3    {'model__C': 1, 'model__penalty': 'l2'}         0.812573                4\n1  {'model__C': 0.1, 'model__penalty': 'l2'}         0.791225                5\n0  {'model__C': 0.1, 'model__penalty': 'l1'}         0.788984                6",
      "text/html": "<div>\n<style scoped>\n    .dataframe tbody tr th:only-of-type {\n        vertical-align: middle;\n    }\n\n    .dataframe tbody tr th {\n        vertical-align: top;\n    }\n\n    .dataframe thead th {\n        text-align: right;\n    }\n</style>\n<table border=\"1\" class=\"dataframe\">\n  <thead>\n    <tr style=\"text-align: right;\">\n      <th></th>\n      <th>params</th>\n      <th>mean_test_score</th>\n      <th>rank_test_score</th>\n    </tr>\n  </thead>\n  <tbody>\n    <tr>\n      <th>4</th>\n      <td>{'model__C': 10, 'model__penalty': 'l1'}</td>\n      <td>0.821537</td>\n      <td>1</td>\n    </tr>\n    <tr>\n      <th>2</th>\n      <td>{'model__C': 1, 'model__penalty': 'l1'}</td>\n      <td>0.820394</td>\n      <td>2</td>\n    </tr>\n    <tr>\n      <th>5</th>\n      <td>{'model__C': 10, 'model__penalty': 'l2'}</td>\n      <td>0.817055</td>\n      <td>3</td>\n    </tr>\n    <tr>\n      <th>3</th>\n      <td>{'model__C': 1, 'model__penalty': 'l2'}</td>\n      <td>0.812573</td>\n      <td>4</td>\n    </tr>\n    <tr>\n      <th>1</th>\n      <td>{'model__C': 0.1, 'model__penalty': 'l2'}</td>\n      <td>0.791225</td>\n      <td>5</td>\n    </tr>\n    <tr>\n      <th>0</th>\n      <td>{'model__C': 0.1, 'model__penalty': 'l1'}</td>\n      <td>0.788984</td>\n      <td>6</td>\n    </tr>\n  </tbody>\n</table>\n</div>"
     },
     "execution_count": 10,
     "metadata": {},
     "output_type": "execute_result"
    }
   ],
   "source": [
    "# sort by test score\n",
    "results.sort_values('rank_test_score')"
   ],
   "metadata": {
    "collapsed": false
   }
  },
  {
   "cell_type": "code",
   "execution_count": null,
   "outputs": [],
   "source": [],
   "metadata": {
    "collapsed": false
   }
  }
 ],
 "metadata": {
  "kernelspec": {
   "display_name": "Python 3",
   "language": "python",
   "name": "python3"
  },
  "language_info": {
   "codemirror_mode": {
    "name": "ipython",
    "version": 2
   },
   "file_extension": ".py",
   "mimetype": "text/x-python",
   "name": "python",
   "nbconvert_exporter": "python",
   "pygments_lexer": "ipython2",
   "version": "2.7.6"
  }
 },
 "nbformat": 4,
 "nbformat_minor": 0
}
